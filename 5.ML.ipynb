{
 "cells": [
  {
   "cell_type": "code",
   "execution_count": null,
   "metadata": {},
   "outputs": [],
   "source": [
    "import pandas as pd \n",
    "import numpy as np\n",
    "import sys\n",
    "import grpc\n",
    "import zemberek_grpc.morphology_pb2 as z_morphology\n",
    "import zemberek_grpc.morphology_pb2_grpc as z_morphology_g\n",
    "import matplotlib.pyplot as plt\n",
    "import re\n",
    "from sklearn.metrics import classification_report\n",
    "import string\n",
    "from nltk.corpus import stopwords\n",
    "from sklearn.pipeline import Pipeline\n",
    "from sklearn.model_selection import train_test_split\n",
    "from sklearn.naive_bayes import MultinomialNB,BernoulliNB\n",
    "from sklearn.ensemble import RandomForestClassifier\n",
    "from sklearn.metrics import accuracy_score\n",
    "from sklearn.metrics import confusion_matrix\n",
    "import seaborn as sns\n",
    "from sklearn.neighbors import KNeighborsClassifier\n",
    "from sklearn.tree import DecisionTreeClassifier\n",
    "from sklearn.svm import LinearSVC\n",
    "from sklearn.linear_model import SGDClassifier\n",
    "from sklearn.feature_extraction.text import TfidfVectorizer,CountVectorizer,TfidfTransformer\n",
    "from sklearn.cluster import KMeans\n",
    "\n",
    "df=pd.read_csv(\"news_with_label.csv\",index_col=0,encoding=\"cp1254\")\n",
    "df.dropna(inplace=True,axis=0)"
   ]
  },
  {
   "cell_type": "code",
   "execution_count": null,
   "metadata": {},
   "outputs": [],
   "source": [
    "channel = grpc.insecure_channel('localhost:6789')\n",
    "morphology_stub = z_morphology_g.MorphologyServiceStub(channel)"
   ]
  },
  {
   "cell_type": "code",
   "execution_count": null,
   "metadata": {},
   "outputs": [],
   "source": [
    "def analyze(i):\n",
    "    response = morphology_stub.AnalyzeSentence(z_morphology.SentenceAnalysisRequest(input=i))\n",
    "    return response"
   ]
  },
  {
   "cell_type": "code",
   "execution_count": null,
   "metadata": {},
   "outputs": [],
   "source": [
    "def fix_decode(text):\n",
    "    \"\"\"Pass decode.\"\"\"\n",
    "    if sys.version_info < (3, 0):\n",
    "        return text.decode('cp1254')\n",
    "    else:\n",
    "        return text"
   ]
  },
  {
   "cell_type": "code",
   "execution_count": null,
   "metadata": {},
   "outputs": [],
   "source": [
    "notr=df[df.label==0]\n",
    "pos=df[df.label==1]\n",
    "neg=df[df.label==-1]\n",
    "print(f\" Pozitif Label Len :{len(pos)} \\n Negatif Label Len :{len(neg)} \\n Notr Label Len    :{len(notr)}\")"
   ]
  },
  {
   "cell_type": "code",
   "execution_count": null,
   "metadata": {},
   "outputs": [],
   "source": [
    "def zemberek(text):\n",
    "    clean=[]\n",
    "    analysis_input = text\n",
    "    print('Analysis result for input : ' + fix_decode(analysis_input))\n",
    "    analysis_result = analyze(analysis_input)\n",
    "    for a in analysis_result.results:\n",
    "        best = a.best\n",
    "        lemmas = best.lemmas[0]\n",
    "        if lemmas!=\"UNK\":\n",
    "#             print(\"Lemmas = \" + lemmas)\n",
    "            clean.append(lemmas)\n",
    "        elif lemmas == \"UNK\":\n",
    "            clean.append(a.token)\n",
    "    clean = \" \".join(clean)\n",
    "    return clean"
   ]
  },
  {
   "cell_type": "code",
   "execution_count": null,
   "metadata": {},
   "outputs": [],
   "source": [
    "def clean_text(text):\n",
    "    text = text.lower()\n",
    "    text = re.sub(\"\\[.*?\\]\", \"\", text)  \n",
    "    text = re.sub(\"[%s]\" % re.escape(string.punctuation), \"\", text)\n",
    "    text = re.sub(\"\\w*\\d\\w*\", \"\", text)\n",
    "    text = re.sub('\\n', '', text)\n",
    "    print(text)\n",
    "\n",
    "    return text"
   ]
  },
  {
   "cell_type": "code",
   "execution_count": null,
   "metadata": {},
   "outputs": [],
   "source": [
    "df_x=df.content.astype(str)\n",
    "df_y=df.label.astype(\"int\")\n",
    "\n",
    "\n",
    "x_train, x_test, y_train, y_test = train_test_split(df_x, df_y, test_size=0.2,random_state=44)"
   ]
  },
  {
   "cell_type": "code",
   "execution_count": null,
   "metadata": {},
   "outputs": [],
   "source": [
    "pipeline = Pipeline([\n",
    "    ('vect', CountVectorizer(analyzer ='word',ngram_range=(1,6),)),\n",
    "    ('tfidf', TfidfTransformer()),\n",
    "])"
   ]
  },
  {
   "cell_type": "code",
   "execution_count": null,
   "metadata": {},
   "outputs": [],
   "source": [
    "x_train_vect=pipeline.fit_transform(x_train)\n",
    "x_test_vect=pipeline.transform(x_test)"
   ]
  },
  {
   "cell_type": "code",
   "execution_count": null,
   "metadata": {},
   "outputs": [],
   "source": [
    "mnb = MultinomialNB(alpha=0.01) # Çok sınıflı problemlerde kullanılır.\n",
    "knn = KNeighborsClassifier(3)\n",
    "svc = LinearSVC(random_state=44)\n",
    "rfc = RandomForestClassifier(n_estimators=10,criterion='entropy',)#\n",
    "tree = DecisionTreeClassifier()\n",
    "sgd = SGDClassifier(alpha=0.01,random_state=44)\n",
    "kmeans = KMeans(n_clusters=3, random_state=0)"
   ]
  },
  {
   "cell_type": "code",
   "execution_count": null,
   "metadata": {},
   "outputs": [],
   "source": [
    "# models=[mnb]\n",
    "models=[mnb,svc,rfc,tree,sgd,knn]\n",
    "best_acc=0\n",
    "selected=models[0]\n",
    "for count,model in enumerate(models):\n",
    "    try:\n",
    "        model=model.fit(x_train_vect,y_train)\n",
    "        accuracy=accuracy_score(y_test,model.predict(x_test_vect))\n",
    "        print(f\"Model : {models[count]} \\n Accuracy : {accuracy} \\n\")\n",
    "        if accuracy>best_acc:\n",
    "            best_acc=accuracy\n",
    "            selected=model\n",
    "    except Exception:\n",
    "        continue\n",
    "print(\"Best Accuracy :\" + str(best_acc))\n",
    "print(\"Selected Model : \" + str(selected))"
   ]
  },
  {
   "cell_type": "code",
   "execution_count": null,
   "metadata": {},
   "outputs": [],
   "source": [
    "def make_predict(text):\n",
    "    text=zemberek(text)\n",
    "    text=clean_text(text)\n",
    "    text = pipeline.transform([text])\n",
    "    pred = selected.predict(text)\n",
    "    print(text)\n",
    "    print(pred)"
   ]
  },
  {
   "cell_type": "code",
   "execution_count": null,
   "metadata": {},
   "outputs": [],
   "source": [
    "text=\"\"\"\n",
    "sat\n",
    "\"\"\"\n",
    "\n",
    "make_predict(text)"
   ]
  },
  {
   "cell_type": "code",
   "execution_count": null,
   "metadata": {},
   "outputs": [],
   "source": [
    "y_predict=selected.predict(x_test_vect)\n",
    "y_actual=np.array(y_test)"
   ]
  },
  {
   "cell_type": "code",
   "execution_count": null,
   "metadata": {},
   "outputs": [],
   "source": [
    "plt.figure(figsize=(10,8))\n",
    "cm = confusion_matrix(y_actual, y_predict)\n",
    "class_label = [\"-1\", \"0\",\"1\"]\n",
    "df_cm = pd.DataFrame(cm, index=class_label,columns=class_label)\n",
    "sns.heatmap(df_cm, annot=True, fmt='d')\n",
    "plt.rcParams.update({'font.size': 30})\n",
    "plt.title(\"Confusion Matrix\")\n",
    "plt.xlabel(\"Predicted Label\")\n",
    "plt.ylabel(\"True Label\")\n",
    "plt.show()"
   ]
  },
  {
   "cell_type": "code",
   "execution_count": null,
   "metadata": {},
   "outputs": [],
   "source": [
    "# from nltk.probability import FreqDist\n",
    "# all_words=[]\n",
    "# for text in df.content:\n",
    "#     for i in text.split():\n",
    "#         all_words.append(i)\n",
    "        "
   ]
  },
  {
   "cell_type": "code",
   "execution_count": null,
   "metadata": {},
   "outputs": [],
   "source": [
    "# fdist=FreqDist(word for word in all_words)"
   ]
  },
  {
   "cell_type": "code",
   "execution_count": null,
   "metadata": {},
   "outputs": [],
   "source": [
    "# fdist.most_common(5)"
   ]
  },
  {
   "cell_type": "code",
   "execution_count": null,
   "metadata": {},
   "outputs": [],
   "source": [
    "# plt.figure(figsize=(24,16))\n",
    "# plt.scatter(range(len(y_predict)),y_predict)\n",
    "# plt.scatter(range(len(y_predict)),y_actual)\n",
    "\n"
   ]
  },
  {
   "cell_type": "code",
   "execution_count": null,
   "metadata": {},
   "outputs": [],
   "source": [
    "print(classification_report(y_actual, y_predict, labels=[-1,0,1]))"
   ]
  },
  {
   "cell_type": "code",
   "execution_count": null,
   "metadata": {},
   "outputs": [],
   "source": []
  },
  {
   "cell_type": "code",
   "execution_count": null,
   "metadata": {},
   "outputs": [],
   "source": []
  },
  {
   "cell_type": "code",
   "execution_count": null,
   "metadata": {},
   "outputs": [],
   "source": []
  },
  {
   "cell_type": "code",
   "execution_count": null,
   "metadata": {},
   "outputs": [],
   "source": []
  },
  {
   "cell_type": "code",
   "execution_count": null,
   "metadata": {},
   "outputs": [],
   "source": []
  },
  {
   "cell_type": "code",
   "execution_count": null,
   "metadata": {},
   "outputs": [],
   "source": []
  },
  {
   "cell_type": "code",
   "execution_count": null,
   "metadata": {},
   "outputs": [],
   "source": []
  }
 ],
 "metadata": {
  "kernelspec": {
   "display_name": "Python 3",
   "language": "python",
   "name": "python3"
  },
  "language_info": {
   "codemirror_mode": {
    "name": "ipython",
    "version": 3
   },
   "file_extension": ".py",
   "mimetype": "text/x-python",
   "name": "python",
   "nbconvert_exporter": "python",
   "pygments_lexer": "ipython3",
   "version": "3.7.3"
  }
 },
 "nbformat": 4,
 "nbformat_minor": 2
}
