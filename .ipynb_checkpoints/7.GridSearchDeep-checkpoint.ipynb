{
 "cells": [
  {
   "cell_type": "code",
   "execution_count": 93,
   "metadata": {},
   "outputs": [],
   "source": [
    "import pandas as pd\n",
    "import numpy as np\n",
    "import re\n",
    "from nltk.corpus import stopwords\n",
    "from sklearn.model_selection import train_test_split\n",
    "import tensorflow as tf\n",
    "from sklearn.metrics import median_absolute_error as mae\n",
    "from sklearn.metrics import mean_squared_error as mse\n",
    "from sklearn.metrics import accuracy_score as acc\n",
    "import matplotlib.pyplot as plt\n",
    "from keras.layers import Add\n",
    "\n",
    "from keras.models import Sequential\n",
    "from keras import initializers\n",
    "from keras.layers import Dropout, Activation, Embedding, Conv1D, MaxPooling1D, Input, Dense, BatchNormalization, Flatten, Reshape, Concatenate\n",
    "from keras.layers.recurrent import LSTM, GRU\n",
    "from keras.callbacks import Callback, ModelCheckpoint, EarlyStopping, ReduceLROnPlateau\n",
    "from keras.models import Model\n",
    "from keras.optimizers import Adam, SGD, RMSprop\n",
    "from keras import regularizers\n",
    "df=pd.read_csv(\"new_with_label_for_deeplearning.csv\",index_col=0)"
   ]
  },
  {
   "cell_type": "code",
   "execution_count": 94,
   "metadata": {},
   "outputs": [
    {
     "name": "stdout",
     "output_type": "stream",
     "text": [
      "Nan değerler:  date       0\n",
      "content    0\n",
      "label      0\n",
      "dtype: int64\n",
      "Shape: (657, 3)\n",
      "unique tarihler 373\n"
     ]
    }
   ],
   "source": [
    "print(\"Nan değerler: \",df.isnull().sum())\n",
    "print(\"Shape:\",df.shape)\n",
    "print(\"unique tarihler\",len(set(df.index))) # gerçekte bin günlük veri var "
   ]
  },
  {
   "cell_type": "code",
   "execution_count": 95,
   "metadata": {},
   "outputs": [
    {
     "name": "stdout",
     "output_type": "stream",
     "text": [
      "657\n",
      "(657,)\n",
      "(657,)\n",
      "657\n"
     ]
    }
   ],
   "source": [
    "label=[]\n",
    "content=[]\n",
    "\n",
    "content=df.content.values\n",
    "label=df.label.values\n",
    "\n",
    "print(len(content))\n",
    "print(content.shape)\n",
    "print(label.shape)\n",
    "print(len(label))\n"
   ]
  },
  {
   "cell_type": "code",
   "execution_count": 96,
   "metadata": {},
   "outputs": [
    {
     "name": "stdout",
     "output_type": "stream",
     "text": [
      "1088.6560121765601\n"
     ]
    }
   ],
   "source": [
    "liste=[]\n",
    "\n",
    "for i in content:\n",
    "    liste.append(len(i))\n",
    "\n",
    "print(np.mean(liste))"
   ]
  },
  {
   "cell_type": "code",
   "execution_count": 97,
   "metadata": {},
   "outputs": [],
   "source": [
    "def clean_text(text):\n",
    "    text=text.lower()\n",
    "    text = re.sub(r'[_\"\\-;%()|.,+&=*%.,!?:#@\\[\\]]', ' ', text)\n",
    "    \n",
    "    text=text.split()\n",
    "    stops=stopwords.words(\"turkish\")\n",
    "    text=[w for w in text if not w in stops]\n",
    "    text=\" \".join(text)\n",
    "    \n",
    "    return text"
   ]
  },
  {
   "cell_type": "code",
   "execution_count": 98,
   "metadata": {},
   "outputs": [],
   "source": [
    "clean_content=[]\n",
    "for text in content:\n",
    "    clean_content.append(clean_text(text))\n"
   ]
  },
  {
   "cell_type": "code",
   "execution_count": 99,
   "metadata": {},
   "outputs": [
    {
     "name": "stdout",
     "output_type": "stream",
     "text": [
      "6221\n"
     ]
    }
   ],
   "source": [
    "word_counts={}\n",
    "\n",
    "\n",
    "for text in clean_content:\n",
    "    for word in text.split():\n",
    "        if word not in word_counts:\n",
    "            word_counts[word]=1\n",
    "        else:\n",
    "            word_counts[word]+=1\n",
    "print(len(word_counts))\n",
    "\n",
    "# print(sorted(word_counts))"
   ]
  },
  {
   "cell_type": "code",
   "execution_count": 100,
   "metadata": {},
   "outputs": [],
   "source": [
    "\n",
    "embeddings_index = {}\n",
    "# with open('D:\\indirilenler\\\\Compressed\\\\cc.tr.300.vec\\\\cc.vec', encoding='utf-8') as f:\n",
    "#     for line in f:\n",
    "#         values = line.split(' ')\n",
    "#         word = values[0]\n",
    "#         embedding = np.asarray(values[1:], dtype='float32')\n",
    "#         embeddings_index[word] = embedding\n",
    "\n",
    "# print('Word embeddings:', len(embeddings_index))\n",
    "        "
   ]
  },
  {
   "cell_type": "code",
   "execution_count": 101,
   "metadata": {},
   "outputs": [
    {
     "name": "stdout",
     "output_type": "stream",
     "text": [
      "Number of words missing from vecs: 1370\n",
      "Percent of words that are missing from vocabulary 22.02\n"
     ]
    }
   ],
   "source": [
    "missing_words=0\n",
    "threshold=10\n",
    "\n",
    "for word,count in word_counts.items():\n",
    "    if count>threshold:\n",
    "        if word not in embeddings_index:\n",
    "            missing_words+=1\n",
    "missing_ratio=round(missing_words/len(word_counts),4)*100\n",
    "\n",
    "print(\"Number of words missing from vecs:\",missing_words)\n",
    "print(f\"Percent of words that are missing from vocabulary {missing_ratio}\")"
   ]
  },
  {
   "cell_type": "code",
   "execution_count": 102,
   "metadata": {},
   "outputs": [
    {
     "name": "stdout",
     "output_type": "stream",
     "text": [
      "Total Number of Unique Words: 6221\n",
      "Number of Words we will use: 1471\n",
      "Percent of Words we will use: 23.65%\n"
     ]
    }
   ],
   "source": [
    "vocab_to_int={}\n",
    "\n",
    "value=0\n",
    "for word,count in word_counts.items():\n",
    "    if count>=threshold or word in embeddings_index:\n",
    "        vocab_to_int[word]=value\n",
    "        value+=1\n",
    "codes=[\"<UNK>\",\"<PAD>\"]\n",
    "for code in codes:\n",
    "    vocab_to_int[code]=len(vocab_to_int)\n",
    "int_to_vocab={}\n",
    "for word,value in vocab_to_int.items():\n",
    "    int_to_vocab[value]=word\n",
    "usage_ratio=round(len(vocab_to_int)/len(word_counts),4)*100\n",
    "\n",
    "print(\"Total Number of Unique Words:\", len(word_counts))\n",
    "print(\"Number of Words we will use:\", len(vocab_to_int))\n",
    "print(\"Percent of Words we will use: {}%\".format(usage_ratio))\n",
    "\n"
   ]
  },
  {
   "cell_type": "code",
   "execution_count": 103,
   "metadata": {},
   "outputs": [
    {
     "name": "stdout",
     "output_type": "stream",
     "text": [
      "1471\n"
     ]
    }
   ],
   "source": [
    "embedding_dim=300\n",
    "\n",
    "nb_words=len(vocab_to_int)\n",
    "word_embeding_matrix=np.zeros((nb_words,embedding_dim))\n",
    "for word ,i in vocab_to_int.items():\n",
    "    if word in embeddings_index:\n",
    "        word_embeding_matrix[i]=embeddings_index[word]\n",
    "    else:\n",
    "        new_embedding=np.array(np.random.uniform(-1.0,1.0,embedding_dim))\n",
    "        embeddings_index[word]=new_embedding\n",
    "        word_embeding_matrix[i]=new_embedding\n",
    "print(len(word_embeding_matrix))"
   ]
  },
  {
   "cell_type": "code",
   "execution_count": 104,
   "metadata": {},
   "outputs": [
    {
     "name": "stdout",
     "output_type": "stream",
     "text": [
      "Total number of words in contents: 117317\n",
      "Total number of UNKs in contents: 13492\n",
      "Percent of words that are UNK: 11.5%\n"
     ]
    }
   ],
   "source": [
    "word_count=0\n",
    "unk_count=0\n",
    "\n",
    "int_contents=[]\n",
    "\n",
    "for text in content:\n",
    "    int_text=[]\n",
    "    for word in text.split():\n",
    "        word_count+=1\n",
    "        if word in vocab_to_int:\n",
    "            int_text.append(vocab_to_int[word])\n",
    "        else:\n",
    "            int_text.append(vocab_to_int[\"<UNK>\"])\n",
    "            unk_count+=1\n",
    "    int_contents.append(int_text)\n",
    "\n",
    "\n",
    "\n",
    "unk_percent = round(unk_count/word_count,4)*100\n",
    "\n",
    "print(\"Total number of words in contents:\", word_count)\n",
    "print(\"Total number of UNKs in contents:\", unk_count)\n",
    "print(\"Percent of words that are UNK: {}%\".format(unk_percent))\n",
    "\n",
    "\n"
   ]
  },
  {
   "cell_type": "code",
   "execution_count": 105,
   "metadata": {},
   "outputs": [
    {
     "name": "stdout",
     "output_type": "stream",
     "text": [
      "[[71, 42, 72, 73, 74, 75, 76, 77, 78, 79, 80, 81, 52, 82, 83, 84, 85, 6, 75, 76, 86, 52, 87, 11, 1469, 88, 77, 89, 90, 91, 92, 93, 92, 6, 94, 80, 81, 52, 95, 81, 11, 75, 76, 1469, 96, 83, 97, 98, 99, 84, 85, 6, 86, 75, 100, 87, 101, 102, 103, 29, 1469, 104, 6, 1469, 105, 75, 76, 11, 106, 107, 53, 108, 78, 79, 80, 95, 81, 11, 75, 76, 96, 109, 110, 61, 111, 112, 113, 76, 96, 11, 106, 114, 115, 75, 76, 116, 117, 118, 65, 45, 77, 89, 90, 91, 92, 93, 92, 6, 94, 80, 95, 81, 11, 96, 11, 1469, 119, 120, 52, 95, 81, 11, 92, 95, 81, 11, 76, 52, 121, 122, 95, 11, 117, 11, 41, 23, 102, 8, 97, 123, 75, 76, 1469, 124, 61, 95, 11, 118, 65], [75, 125, 126, 78, 52, 127, 1469, 128, 129, 1469, 130, 131, 132, 133, 134, 135, 136, 137, 78, 79, 75, 138, 139, 140, 141, 29, 127, 6, 81, 11, 41, 23, 30, 31, 127, 129, 142, 87, 143, 126, 75, 125, 126, 42, 6, 78, 52, 144, 127, 23, 145, 129, 131, 146, 1469, 19, 147, 143, 130, 148, 131, 132, 149, 135, 136, 137, 143, 126, 78, 79, 141, 29, 127, 6, 150, 149, 143, 151, 78, 79, 75, 138, 139, 140, 141, 29, 127, 6, 81, 11, 41, 23, 30, 31, 127, 129, 142, 87, 52, 152, 153, 154, 6, 155, 41, 1469, 156, 157, 31, 158, 75, 159, 160, 125, 161, 162, 73, 1469, 163, 23, 1469]]\n"
     ]
    }
   ],
   "source": [
    "print(int_contents[1:3])"
   ]
  },
  {
   "cell_type": "code",
   "execution_count": 106,
   "metadata": {},
   "outputs": [],
   "source": [
    "lengths=[]\n",
    "for i in int_contents:\n",
    "    lengths.append(len(i))\n",
    "    \n",
    "lengths=pd.DataFrame(lengths,columns=[\"counts\"])"
   ]
  },
  {
   "cell_type": "code",
   "execution_count": 107,
   "metadata": {},
   "outputs": [
    {
     "data": {
      "text/html": [
       "<div>\n",
       "<style scoped>\n",
       "    .dataframe tbody tr th:only-of-type {\n",
       "        vertical-align: middle;\n",
       "    }\n",
       "\n",
       "    .dataframe tbody tr th {\n",
       "        vertical-align: top;\n",
       "    }\n",
       "\n",
       "    .dataframe thead th {\n",
       "        text-align: right;\n",
       "    }\n",
       "</style>\n",
       "<table border=\"1\" class=\"dataframe\">\n",
       "  <thead>\n",
       "    <tr style=\"text-align: right;\">\n",
       "      <th></th>\n",
       "      <th>counts</th>\n",
       "    </tr>\n",
       "  </thead>\n",
       "  <tbody>\n",
       "    <tr>\n",
       "      <th>count</th>\n",
       "      <td>657.000000</td>\n",
       "    </tr>\n",
       "    <tr>\n",
       "      <th>mean</th>\n",
       "      <td>178.564688</td>\n",
       "    </tr>\n",
       "    <tr>\n",
       "      <th>std</th>\n",
       "      <td>180.978672</td>\n",
       "    </tr>\n",
       "    <tr>\n",
       "      <th>min</th>\n",
       "      <td>0.000000</td>\n",
       "    </tr>\n",
       "    <tr>\n",
       "      <th>25%</th>\n",
       "      <td>58.000000</td>\n",
       "    </tr>\n",
       "    <tr>\n",
       "      <th>50%</th>\n",
       "      <td>126.000000</td>\n",
       "    </tr>\n",
       "    <tr>\n",
       "      <th>75%</th>\n",
       "      <td>236.000000</td>\n",
       "    </tr>\n",
       "    <tr>\n",
       "      <th>max</th>\n",
       "      <td>1797.000000</td>\n",
       "    </tr>\n",
       "  </tbody>\n",
       "</table>\n",
       "</div>"
      ],
      "text/plain": [
       "            counts\n",
       "count   657.000000\n",
       "mean    178.564688\n",
       "std     180.978672\n",
       "min       0.000000\n",
       "25%      58.000000\n",
       "50%     126.000000\n",
       "75%     236.000000\n",
       "max    1797.000000"
      ]
     },
     "execution_count": 107,
     "metadata": {},
     "output_type": "execute_result"
    }
   ],
   "source": [
    "lengths.describe()"
   ]
  },
  {
   "cell_type": "code",
   "execution_count": 108,
   "metadata": {},
   "outputs": [],
   "source": [
    "max_content_length=100\n",
    "pad_contents=[]\n",
    "\n",
    "for text in int_contents:\n",
    "    pad_text=[]\n",
    "    if len(text)<=max_content_length:\n",
    "        for word in text:\n",
    "            pad_text.append(word)\n",
    "    else :\n",
    "        text=text[:max_content_length]\n",
    "        for word in text:\n",
    "            pad_text.append(word)\n",
    "    if len(pad_text)<max_content_length:\n",
    "        for i in range(max_content_length-len(pad_text)):\n",
    "            pad=vocab_to_int[\"<PAD>\"]\n",
    "            pad_text.append(pad)\n",
    "    else:\n",
    "        pad_text=pad_text[:max_content_length]\n",
    "    \n",
    "    pad_contents.append(pad_text)\n",
    "    "
   ]
  },
  {
   "cell_type": "code",
   "execution_count": 109,
   "metadata": {},
   "outputs": [],
   "source": [
    "x_train,x_test,y_train,y_test=train_test_split(pad_contents,label,test_size=0.15,random_state=22)\n",
    "\n",
    "x_train = np.array(x_train)\n",
    "x_test=np.array(x_test)\n",
    "y_train=np.array(y_train)\n",
    "y_test=np.array(y_test)"
   ]
  },
  {
   "cell_type": "code",
   "execution_count": 110,
   "metadata": {},
   "outputs": [
    {
     "name": "stdout",
     "output_type": "stream",
     "text": [
      "558\n",
      "99\n",
      "558\n",
      "99\n"
     ]
    }
   ],
   "source": [
    "print(len(x_train))\n",
    "print(len(x_test))\n",
    "\n",
    "print(len(y_train))\n",
    "print(len(y_test))"
   ]
  },
  {
   "cell_type": "code",
   "execution_count": 113,
   "metadata": {},
   "outputs": [],
   "source": [
    "filter_length1=3\n",
    "filter_length2=5\n",
    "dropout=0.5\n",
    "learning_rate=0.001\n",
    "weights=initializers.TruncatedNormal(mean=0.0,stddev=0.1,seed=2) #Keras katmanları için random ağırlık değerleri üretmek için\n",
    "nb_filter=16\n",
    "rnn_output_size=128\n",
    "hidden_dims=128\n",
    "wider=True\n",
    "deeper=True\n",
    "\n",
    "if wider==True:\n",
    "    nb_filter*=2\n",
    "    rnn_output_size*=2\n",
    "    hidden_dims*=2\n",
    "\n",
    "def build_model():\n",
    "    model1=Sequential()\n",
    "    model1.add(Embedding(nb_words,embedding_dim,weights=[word_embeding_matrix],input_length=max_content_length))\n",
    "    model1.add(Dropout(dropout))\n",
    "\n",
    "    model1.add(Conv1D(filters=nb_filter,kernel_size=filter_length1,padding='same',activation='relu'))\n",
    "    model1.add(Dropout(dropout))\n",
    "\n",
    "    if deeper==True:\n",
    "        model1.add(Conv1D(filters=nb_filter,kernel_size=filter_length1,padding='same',activation='relu'))\n",
    "        model1.add(Dropout(dropout))\n",
    "\n",
    "\n",
    "    model1.add(LSTM(rnn_output_size,activation=None,kernel_initializer=weights,dropout=dropout))\n",
    "\n",
    "    #########\n",
    "    model2=Sequential()\n",
    "\n",
    "    model2.add(Embedding(nb_words,embedding_dim,weights=[word_embeding_matrix],input_length=max_content_length))\n",
    "    model2.add(Dropout(dropout))\n",
    "\n",
    "\n",
    "    model2.add(Conv1D(filters=nb_filter,kernel_size=filter_length2,padding='same',activation='relu'))\n",
    "    model2.add(Dropout(dropout))\n",
    "    if deeper == True:\n",
    "        model2.add(Conv1D(filters=nb_filter,\n",
    "                                 kernel_size=filter_length2,\n",
    "                                 padding='same',\n",
    "                                 activation='relu'))\n",
    "        model2.add(Dropout(dropout))\n",
    "\n",
    "    model2.add(LSTM(rnn_output_size,\n",
    "                    activation=None,\n",
    "                    kernel_initializer=weights,\n",
    "                    dropout=dropout))\n",
    "\n",
    "\n",
    "    ###\n",
    "    model=Sequential()\n",
    "    model = Add()([model1.output, model2.output])\n",
    "\n",
    "    model = Dense(hidden_dims, kernel_initializer=weights)(model)\n",
    "    model = Dropout(dropout)(model)\n",
    "    if deeper == True:\n",
    "        model = Dense(hidden_dims // 2, kernel_initializer=weights)(model)\n",
    "        model = Dropout(dropout)(model)\n",
    "\n",
    "    model = Dense(1, kernel_initializer=weights, name='output')(model)\n",
    "    new_model = Model([model1.input, model2.input], model)\n",
    "    new_model.compile(loss='mean_squared_error', optimizer=Adam(lr=learning_rate, clipvalue=1.0),metrics=[\"accuracy\"])\n",
    "    return new_model"
   ]
  },
  {
   "cell_type": "code",
   "execution_count": 114,
   "metadata": {},
   "outputs": [],
   "source": [
    "# # Use grid search to help find a better model\n",
    "# for deeper in [False]:\n",
    "#     for wider in [True,False]:\n",
    "#         for learning_rate in [0.001]:\n",
    "#             for dropout in [0.3, 0.5]:\n",
    "#                 model = build_model()\n",
    "#                 print()\n",
    "#                 print(\"Current model: Deeper={}, Wider={}, LR={}, Dropout={}\".format(\n",
    "#                     deeper,wider,learning_rate,dropout))\n",
    "#                 print()\n",
    "#                 save_best_weights = 'question_pairs_weights_deeper={}_wider={}_lr={}_dropout={}.h5'.format(\n",
    "#                     deeper,wider,learning_rate,dropout)\n",
    "\n",
    "#                 callbacks = [ModelCheckpoint(save_best_weights, monitor='val_loss', save_best_only=True),\n",
    "#                              EarlyStopping(monitor='val_loss', patience=5, verbose=1, mode='auto'),\n",
    "#                              ReduceLROnPlateau(monitor='val_loss', factor=0.2, verbose=1, patience=3)]\n",
    "\n",
    "#                 history = model.fit([x_train,x_train],\n",
    "#                                     y_train,\n",
    "#                                     batch_size=16,\n",
    "#                                     epochs=100,\n",
    "#                                     validation_split=0.10,\n",
    "#                                     verbose=True,\n",
    "#                                     shuffle=True,\n",
    "#                                     callbacks = callbacks)"
   ]
  },
  {
   "cell_type": "code",
   "execution_count": 115,
   "metadata": {},
   "outputs": [
    {
     "name": "stdout",
     "output_type": "stream",
     "text": [
      "Train on 502 samples, validate on 56 samples\n",
      "Epoch 1/100\n",
      "502/502 [==============================] - 9s 18ms/step - loss: 1.5797 - acc: 0.2829 - val_loss: 0.6425 - val_acc: 0.3571\n",
      "Epoch 2/100\n",
      "502/502 [==============================] - 5s 11ms/step - loss: 0.7629 - acc: 0.3287 - val_loss: 0.5975 - val_acc: 0.3571\n",
      "Epoch 3/100\n",
      "502/502 [==============================] - 6s 11ms/step - loss: 0.7280 - acc: 0.3406 - val_loss: 0.5752 - val_acc: 0.3750\n",
      "Epoch 4/100\n",
      "502/502 [==============================] - 5s 11ms/step - loss: 0.6582 - acc: 0.3446 - val_loss: 0.5684 - val_acc: 0.3750\n",
      "Epoch 5/100\n",
      "502/502 [==============================] - 5s 11ms/step - loss: 0.6270 - acc: 0.3466 - val_loss: 0.5788 - val_acc: 0.3571\n",
      "Epoch 6/100\n",
      "502/502 [==============================] - 6s 11ms/step - loss: 0.5494 - acc: 0.3964 - val_loss: 0.5700 - val_acc: 0.3929\n",
      "Epoch 7/100\n",
      "502/502 [==============================] - 5s 11ms/step - loss: 0.5245 - acc: 0.4363 - val_loss: 0.5654 - val_acc: 0.3750\n",
      "Epoch 8/100\n",
      "502/502 [==============================] - 5s 11ms/step - loss: 0.5731 - acc: 0.4542 - val_loss: 0.5834 - val_acc: 0.4107\n",
      "Epoch 9/100\n",
      "502/502 [==============================] - 5s 11ms/step - loss: 0.5035 - acc: 0.5000 - val_loss: 0.5647 - val_acc: 0.4107\n",
      "Epoch 10/100\n",
      "502/502 [==============================] - 6s 11ms/step - loss: 0.4816 - acc: 0.5159 - val_loss: 0.5459 - val_acc: 0.4107\n",
      "Epoch 11/100\n",
      "502/502 [==============================] - 6s 11ms/step - loss: 0.4739 - acc: 0.5040 - val_loss: 0.5483 - val_acc: 0.3929\n",
      "Epoch 12/100\n",
      "502/502 [==============================] - 6s 11ms/step - loss: 0.4524 - acc: 0.5339 - val_loss: 0.5683 - val_acc: 0.3929\n",
      "Epoch 13/100\n",
      "502/502 [==============================] - 6s 11ms/step - loss: 0.4312 - acc: 0.5657 - val_loss: 0.5209 - val_acc: 0.3393\n",
      "Epoch 14/100\n",
      "502/502 [==============================] - 6s 11ms/step - loss: 0.4156 - acc: 0.5657 - val_loss: 0.5286 - val_acc: 0.4107\n",
      "Epoch 15/100\n",
      "502/502 [==============================] - 6s 11ms/step - loss: 0.4129 - acc: 0.5876 - val_loss: 0.5211 - val_acc: 0.4464\n",
      "Epoch 16/100\n",
      "502/502 [==============================] - 6s 12ms/step - loss: 0.3997 - acc: 0.5837 - val_loss: 0.5119 - val_acc: 0.3750\n",
      "Epoch 17/100\n",
      "502/502 [==============================] - 6s 11ms/step - loss: 0.4019 - acc: 0.5717 - val_loss: 0.5029 - val_acc: 0.3929\n",
      "Epoch 18/100\n",
      "502/502 [==============================] - 6s 11ms/step - loss: 0.3997 - acc: 0.5857 - val_loss: 0.5234 - val_acc: 0.4286\n",
      "Epoch 19/100\n",
      "502/502 [==============================] - 6s 11ms/step - loss: 0.3912 - acc: 0.6096 - val_loss: 0.5093 - val_acc: 0.4821\n",
      "Epoch 20/100\n",
      "502/502 [==============================] - 6s 11ms/step - loss: 0.3839 - acc: 0.6255 - val_loss: 0.5307 - val_acc: 0.4107\n",
      "\n",
      "Epoch 00020: ReduceLROnPlateau reducing learning rate to 0.00020000000949949026.\n",
      "Epoch 21/100\n",
      "502/502 [==============================] - 6s 11ms/step - loss: 0.3996 - acc: 0.5777 - val_loss: 0.4958 - val_acc: 0.4643\n",
      "Epoch 22/100\n",
      "502/502 [==============================] - 6s 11ms/step - loss: 0.3647 - acc: 0.6135 - val_loss: 0.4957 - val_acc: 0.4286\n",
      "Epoch 23/100\n",
      "502/502 [==============================] - 6s 11ms/step - loss: 0.3453 - acc: 0.6434 - val_loss: 0.4974 - val_acc: 0.4286\n",
      "Epoch 24/100\n",
      "502/502 [==============================] - 6s 11ms/step - loss: 0.3553 - acc: 0.6335 - val_loss: 0.4958 - val_acc: 0.4821\n",
      "Epoch 25/100\n",
      "502/502 [==============================] - 6s 12ms/step - loss: 0.3493 - acc: 0.6275 - val_loss: 0.4976 - val_acc: 0.4464\n",
      "\n",
      "Epoch 00025: ReduceLROnPlateau reducing learning rate to 4.0000001899898055e-05.\n",
      "Epoch 26/100\n",
      "502/502 [==============================] - 6s 11ms/step - loss: 0.3699 - acc: 0.6175 - val_loss: 0.4979 - val_acc: 0.4286\n",
      "Epoch 27/100\n",
      "502/502 [==============================] - 6s 11ms/step - loss: 0.3631 - acc: 0.6175 - val_loss: 0.4995 - val_acc: 0.4286\n",
      "Epoch 00027: early stopping\n"
     ]
    }
   ],
   "source": [
    "\n",
    "deeper=True\n",
    "wider=False\n",
    "dropout=0.2\n",
    "model=build_model()\n",
    "learning_Rate = 0.001\n",
    "\n",
    "save_best_weights = 'question_pairs_weights_deeper={}_wider={}_lr={}_dropout={}.h5'.format(\n",
    "deeper,wider,learning_rate,dropout)\n",
    "\n",
    "callbacks = [ModelCheckpoint(save_best_weights, monitor='val_loss', save_best_only=True),\n",
    "             EarlyStopping(monitor='val_loss', patience=5, verbose=1, mode='auto'),\n",
    "             ReduceLROnPlateau(monitor='val_loss', factor=0.2, verbose=1, patience=3)]\n",
    "\n",
    "history = model.fit([x_train,x_train],\n",
    "                    y_train,\n",
    "                    batch_size=32,\n",
    "                    epochs=100,\n",
    "                    validation_split=0.10,\n",
    "                    verbose=True,\n",
    "                    shuffle=True,\n",
    "                    callbacks = callbacks)\n"
   ]
  },
  {
   "cell_type": "code",
   "execution_count": 119,
   "metadata": {},
   "outputs": [
    {
     "name": "stdout",
     "output_type": "stream",
     "text": [
      "99/99 [==============================] - 0s 5ms/step\n"
     ]
    }
   ],
   "source": [
    "predictions = model.predict([x_test,x_test], verbose = True)\n",
    "\n"
   ]
  },
  {
   "cell_type": "code",
   "execution_count": 120,
   "metadata": {},
   "outputs": [
    {
     "data": {
      "text/plain": [
       "0.5883257071504061"
      ]
     },
     "execution_count": 120,
     "metadata": {},
     "output_type": "execute_result"
    }
   ],
   "source": [
    "mse(y_test, predictions)\n"
   ]
  },
  {
   "cell_type": "code",
   "execution_count": null,
   "metadata": {},
   "outputs": [],
   "source": []
  },
  {
   "cell_type": "code",
   "execution_count": 138,
   "metadata": {},
   "outputs": [
    {
     "data": {
      "image/png": "[encoded data removed]",
      "text/plain": [
       "<Figure size 864x288 with 1 Axes>"
      ]
     },
     "metadata": {
      "needs_background": "light"
     },
     "output_type": "display_data"
    }
   ],
   "source": [
    "plt.figure(figsize=(12,4))\n",
    "plt.plot(predictions)\n",
    "# plt.plot(y_test)\n",
    "plt.title(\"Predicted (blue) vs Actual (yellow) \")\n",
    "plt.xlabel(\"Testing instances\")\n",
    "plt.ylabel(\"Change\")\n",
    "plt.show()"
   ]
  },
  {
   "cell_type": "code",
   "execution_count": null,
   "metadata": {},
   "outputs": [],
   "source": []
  },
  {
   "cell_type": "code",
   "execution_count": null,
   "metadata": {},
   "outputs": [],
   "source": []
  },
  {
   "cell_type": "code",
   "execution_count": null,
   "metadata": {},
   "outputs": [],
   "source": []
  },
  {
   "cell_type": "code",
   "execution_count": 116,
   "metadata": {},
   "outputs": [],
   "source": [
    "def news_to_int(news):\n",
    "    '''Convert your created news into integers'''\n",
    "    ints = []\n",
    "    for word in news.split():\n",
    "        if word in vocab_to_int:\n",
    "            ints.append(vocab_to_int[word])\n",
    "        else:\n",
    "            ints.append(vocab_to_int['<UNK>'])\n",
    "    return ints"
   ]
  },
  {
   "cell_type": "code",
   "execution_count": 117,
   "metadata": {},
   "outputs": [],
   "source": [
    "\n",
    "def padding_news(news):\n",
    "    '''Adjusts the length of your created news to fit the model's input values.'''\n",
    "    padded_news = news\n",
    "    if len(padded_news) < max_content_length:\n",
    "        for i in range(max_content_length-len(padded_news)):\n",
    "            padded_news.append(vocab_to_int[\"<PAD>\"])\n",
    "    elif len(padded_news) > max_content_length:\n",
    "        padded_news = padded_news[:max]\n",
    "    return padded_news"
   ]
  },
  {
   "cell_type": "code",
   "execution_count": 118,
   "metadata": {},
   "outputs": [
    {
     "name": "stdout",
     "output_type": "stream",
     "text": [
      "The Dow should open: [[0.7057373]] from the previous open.\n"
     ]
    }
   ],
   "source": [
    "create_news = \"\"\n",
    "\n",
    "clean_news = clean_text(create_news)\n",
    "\n",
    "int_news = news_to_int(clean_news)\n",
    "\n",
    "pad_news = padding_news(int_news)\n",
    "\n",
    "pad_news = np.array(pad_news).reshape((1,-1))\n",
    "\n",
    "pred = model.predict([pad_news,pad_news])\n",
    "\n",
    "# price_change = unnormalize(pred)\n",
    "\n",
    "print(\"The Dow should open: {} from the previous open.\".format(pred))"
   ]
  },
  {
   "cell_type": "code",
   "execution_count": null,
   "metadata": {},
   "outputs": [],
   "source": []
  },
  {
   "cell_type": "code",
   "execution_count": null,
   "metadata": {},
   "outputs": [],
   "source": []
  }
 ],
 "metadata": {
  "kernelspec": {
   "display_name": "Python 3",
   "language": "python",
   "name": "python3"
  },
  "language_info": {
   "codemirror_mode": {
    "name": "ipython",
    "version": 3
   },
   "file_extension": ".py",
   "mimetype": "text/x-python",
   "name": "python",
   "nbconvert_exporter": "python",
   "pygments_lexer": "ipython3",
   "version": "3.7.3"
  }
 },
 "nbformat": 4,
 "nbformat_minor": 2
}
