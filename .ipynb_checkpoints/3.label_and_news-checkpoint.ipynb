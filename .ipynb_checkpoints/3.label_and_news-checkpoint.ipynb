{
 "cells": [
  {
   "cell_type": "code",
   "execution_count": null,
   "metadata": {},
   "outputs": [],
   "source": [
    "import pandas as pd\n",
    "\n",
    "\n",
    "df_news=pd.read_csv(\"xxxxx\",index_col=0) #temizlenmiş haber csv dosyası\n",
    "\n",
    "df_stock=pd.read_csv(\"xxxxxx\",index_col=0) #etiket eklenmiş hisse csv dosyası\n",
    "\n",
    "\n",
    "df_news[\"label\"]=99999999"
   ]
  },
  {
   "cell_type": "code",
   "execution_count": null,
   "metadata": {},
   "outputs": [],
   "source": [
    "\n",
    "df_news.set_index(\"date\",inplace=True)\n",
    "df_hisse.set_index(\"date\",inplace=True)\n",
    "\n",
    "\n",
    "df_news=df_news[df_news.index.isin(df_hisse.index)] #df_news indexlerini filtreledik hisseye göre\n"
   ]
  },
  {
   "cell_type": "code",
   "execution_count": null,
   "metadata": {},
   "outputs": [],
   "source": [
    "for index in df_news.index.values:\n",
    "    if index in df_hisse.index.values:\n",
    "        df_news[\"label\"].loc[index] = df_hisse.label_pct.loc[index]"
   ]
  },
  {
   "cell_type": "code",
   "execution_count": null,
   "metadata": {},
   "outputs": [],
   "source": [
    "df_news.to_csv(\"xxxx_with_label.csv\",encoding=\"cp1254\") #haberlere etiketler eklendi\n"
   ]
  }
 ],
 "metadata": {
  "kernelspec": {
   "display_name": "Python 3",
   "language": "python",
   "name": "python3"
  },
  "language_info": {
   "codemirror_mode": {
    "name": "ipython",
    "version": 3
   },
   "file_extension": ".py",
   "mimetype": "text/x-python",
   "name": "python",
   "nbconvert_exporter": "python",
   "pygments_lexer": "ipython3",
   "version": "3.7.3"
  }
 },
 "nbformat": 4,
 "nbformat_minor": 2
}
