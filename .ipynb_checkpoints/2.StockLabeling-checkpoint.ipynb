{
 "cells": [
  {
   "cell_type": "code",
   "execution_count": 7,
   "metadata": {},
   "outputs": [],
   "source": [
    "import pandas as pd\n",
    "import numpy as np\n",
    "\n",
    "df = pd.read_csv(\"csvFiles\\\\thy_stock.csv\", index_col=0)\n",
    "\n",
    "df[[\"pct_open\"]] = df[[\"open\"]].pct_change(periods=1)\n",
    "\n",
    "df[[\"pct_volume\"]] = df[[\"volume\"]].pct_change(periods=1)"
   ]
  },
  {
   "cell_type": "code",
   "execution_count": 8,
   "metadata": {},
   "outputs": [],
   "source": [
    "pos = []\n",
    "neg = []\n",
    "\n",
    "for yuzde in df.pct_volume.values:\n",
    "    if yuzde > 0:\n",
    "        pos.append(yuzde)\n",
    "    elif yuzde < 0:\n",
    "        neg.append(yuzde)"
   ]
  },
  {
   "cell_type": "code",
   "execution_count": 9,
   "metadata": {},
   "outputs": [
    {
     "name": "stdout",
     "output_type": "stream",
     "text": [
      "Poziriflerin Ortancası.: 0.2814024126337178\n",
      "Negatiflerin ortancası: -0.21580579967271762\n"
     ]
    }
   ],
   "source": [
    "print(\"Poziriflerin Ortancası.:\", np.median(pos))\n",
    "print(\"Negatiflerin ortancası:\", np.median(neg))\n",
    "df.dropna(inplace=True)"
   ]
  },
  {
   "cell_type": "code",
   "execution_count": 13,
   "metadata": {},
   "outputs": [],
   "source": [
    "def classify(pct_open,pct_volume):\n",
    "    if pct_open > 0.015 and pct_volume>0.28:  \n",
    "        return 1\n",
    "    elif pct_open < -0.014 and pct_volume>0.28:  \n",
    "        return -1\n",
    "    elif -0.006< pct_open < 0.006 and pct_volume<.28:\n",
    "        return 0"
   ]
  },
  {
   "cell_type": "code",
   "execution_count": 14,
   "metadata": {},
   "outputs": [],
   "source": [
    "df[\"label\"] = df.apply(lambda x:classify(x.pct_open,x.pct_volume),axis=1)"
   ]
  },
  {
   "cell_type": "code",
   "execution_count": 15,
   "metadata": {},
   "outputs": [
    {
     "name": "stdout",
     "output_type": "stream",
     "text": [
      "51\n",
      "61\n",
      "183\n"
     ]
    }
   ],
   "source": [
    "howmany = df.label.values\n",
    "\n",
    "zero = 0\n",
    "neg = 0\n",
    "pos = 0\n",
    "\n",
    "for i in howmany:\n",
    "    if i == 1:\n",
    "        pos += 1\n",
    "    elif i == -1:\n",
    "        neg += 1\n",
    "    elif i == 0:\n",
    "        zero += 1\n",
    "print(pos)\n",
    "print(neg)\n",
    "print(zero)"
   ]
  },
  {
   "cell_type": "code",
   "execution_count": 58,
   "metadata": {},
   "outputs": [
    {
     "name": "stdout",
     "output_type": "stream",
     "text": [
      "            date  label\n",
      "1007  2018-12-31   -1.0\n",
      "1013  2019-01-09    0.0\n",
      "1030  2019-02-01   -1.0\n",
      "1031  2019-02-04   -1.0\n",
      "1032  2019-02-05    1.0\n",
      "1035  2019-02-08   -1.0\n",
      "1042  2019-02-19   -1.0\n",
      "1044  2019-02-21    0.0\n",
      "1057  2019-03-12   -1.0\n",
      "1061  2019-03-18    1.0\n",
      "1074  2019-04-04    1.0\n",
      "1081  2019-04-15    0.0\n",
      "1086  2019-04-22   -1.0\n",
      "1089  2019-04-26   -1.0\n",
      "1093  2019-05-03   -1.0\n",
      "1111  2019-05-29    0.0\n",
      "1125  2019-06-21   -1.0\n",
      "1134  2019-07-04   -1.0\n",
      "1136  2019-07-08   -1.0\n",
      "1140  2019-07-12   -1.0\n"
     ]
    }
   ],
   "source": [
    "df = df[[\"date\", \"label\"]]\n",
    "df.dropna(inplace=True)\n",
    "\n",
    "print(df.tail(20))\n",
    "df.dropna(axis=0, inplace=True)\n",
    "\n",
    "#  df.to_csv(\"xxxx_with_label.csv\")"
   ]
  },
  {
   "cell_type": "code",
   "execution_count": null,
   "metadata": {},
   "outputs": [],
   "source": []
  },
  {
   "cell_type": "code",
   "execution_count": null,
   "metadata": {},
   "outputs": [],
   "source": []
  },
  {
   "cell_type": "code",
   "execution_count": null,
   "metadata": {},
   "outputs": [],
   "source": []
  },
  {
   "cell_type": "code",
   "execution_count": null,
   "metadata": {},
   "outputs": [],
   "source": []
  },
  {
   "cell_type": "code",
   "execution_count": null,
   "metadata": {},
   "outputs": [],
   "source": []
  },
  {
   "cell_type": "code",
   "execution_count": null,
   "metadata": {},
   "outputs": [],
   "source": []
  },
  {
   "cell_type": "code",
   "execution_count": null,
   "metadata": {},
   "outputs": [],
   "source": []
  },
  {
   "cell_type": "code",
   "execution_count": null,
   "metadata": {},
   "outputs": [],
   "source": []
  },
  {
   "cell_type": "code",
   "execution_count": null,
   "metadata": {},
   "outputs": [],
   "source": []
  },
  {
   "cell_type": "code",
   "execution_count": null,
   "metadata": {},
   "outputs": [],
   "source": []
  },
  {
   "cell_type": "code",
   "execution_count": null,
   "metadata": {},
   "outputs": [],
   "source": []
  },
  {
   "cell_type": "code",
   "execution_count": null,
   "metadata": {},
   "outputs": [],
   "source": []
  },
  {
   "cell_type": "code",
   "execution_count": null,
   "metadata": {},
   "outputs": [],
   "source": []
  }
 ],
 "metadata": {
  "kernelspec": {
   "display_name": "Python 3",
   "language": "python",
   "name": "python3"
  },
  "language_info": {
   "codemirror_mode": {
    "name": "ipython",
    "version": 3
   },
   "file_extension": ".py",
   "mimetype": "text/x-python",
   "name": "python",
   "nbconvert_exporter": "python",
   "pygments_lexer": "ipython3",
   "version": "3.7.3"
  }
 },
 "nbformat": 4,
 "nbformat_minor": 2
}
