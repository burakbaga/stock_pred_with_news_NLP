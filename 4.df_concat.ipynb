{
 "cells": [
  {
   "cell_type": "code",
   "execution_count": null,
   "metadata": {},
   "outputs": [],
   "source": [
    "import pandas as pd\n",
    "\n",
    "df_pg=pd.read_csv(\"xxxxxxx.csv\",encoding=\"cp1254\")# pegasus haberleri ve labelları eklenmiş\n",
    "df_thy=pd.read_csv(\"xxxxxxxxxx.csv\",encoding=\"cp1254\") # thy haberleri ve labelları eklenmiş"
   ]
  },
  {
   "cell_type": "code",
   "execution_count": null,
   "metadata": {},
   "outputs": [],
   "source": [
    "df=pd.concat([df_pg,df_thy])"
   ]
  },
  {
   "cell_type": "code",
   "execution_count": null,
   "metadata": {},
   "outputs": [],
   "source": [
    "def fonk(text):\n",
    "    text=text.split()\n",
    "    cumle=[]\n",
    "    for word in text:\n",
    "        if  len(word)>2:\n",
    "            cumle.append(word)\n",
    "    return \" \".join(cumle)"
   ]
  },
  {
   "cell_type": "code",
   "execution_count": null,
   "metadata": {},
   "outputs": [],
   "source": [
    "df.content=df.content.apply(fonk)\n",
    "\n",
    "print(df.head())\n",
    "\n",
    "\n",
    "df.to_csv(\"xxx_xxx.csv\",encoding=\"cp1254\")"
   ]
  },
  {
   "cell_type": "code",
   "execution_count": null,
   "metadata": {},
   "outputs": [],
   "source": []
  }
 ],
 "metadata": {
  "kernelspec": {
   "display_name": "Python 3",
   "language": "python",
   "name": "python3"
  },
  "language_info": {
   "codemirror_mode": {
    "name": "ipython",
    "version": 3
   },
   "file_extension": ".py",
   "mimetype": "text/x-python",
   "name": "python",
   "nbconvert_exporter": "python",
   "pygments_lexer": "ipython3",
   "version": "3.7.3"
  }
 },
 "nbformat": 4,
 "nbformat_minor": 2
}
