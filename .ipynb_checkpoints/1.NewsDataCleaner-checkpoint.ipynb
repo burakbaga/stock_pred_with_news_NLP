{
 "cells": [
  {
   "cell_type": "code",
   "execution_count": 1,
   "metadata": {},
   "outputs": [],
   "source": [
    "import sys\n",
    "import grpc\n",
    "import zemberek_grpc.morphology_pb2 as z_morphology\n",
    "import zemberek_grpc.morphology_pb2_grpc as z_morphology_g\n",
    "import pandas as pd\n",
    "from datetime import datetime\n",
    "import re\n",
    "from nltk.corpus import stopwords\n",
    "import string\n",
    "\n",
    "channel = grpc.insecure_channel('localhost:6789')\n",
    "\n",
    "morphology_stub = z_morphology_g.MorphologyServiceStub(channel)\n",
    "\n",
    "df=pd.read_csv(\"csvFiles\\\\thy_news.csv\",index_col=0)"
   ]
  },
  {
   "cell_type": "code",
   "execution_count": 2,
   "metadata": {},
   "outputs": [],
   "source": [
    "def analyze(i):\n",
    "    response = morphology_stub.AnalyzeSentence(z_morphology.SentenceAnalysisRequest(input=i))\n",
    "    return response"
   ]
  },
  {
   "cell_type": "code",
   "execution_count": 3,
   "metadata": {},
   "outputs": [],
   "source": [
    "def fix_decode(text):\n",
    "    \"\"\"Pass decode.\"\"\"\n",
    "    if sys.version_info < (3, 0):\n",
    "        return text.decode('utf-8')\n",
    "    else:\n",
    "        return text"
   ]
  },
  {
   "cell_type": "code",
   "execution_count": null,
   "metadata": {},
   "outputs": [],
   "source": [
    "def zemberek(text):\n",
    "    clean=[]\n",
    "    analysis_input = text\n",
    "    print('Analysis result for input : ' + fix_decode(analysis_input))\n",
    "    analysis_result = analyze(analysis_input)\n",
    "    for a in analysis_result.results:\n",
    "        best = a.best\n",
    "        # for l in best.lemmas:\n",
    "        lemmas = best.lemmas[0]\n",
    "        if lemmas!=\"UNK\":\n",
    "#             print(\"Lemmas = \" + lemmas)\n",
    "            clean.append(lemmas) \n",
    "    clean = \" \".join(clean)\n",
    "    return clean"
   ]
  },
  {
   "cell_type": "code",
   "execution_count": null,
   "metadata": {},
   "outputs": [],
   "source": [
    "def just_date(timex):\n",
    "    timex = datetime.strptime(timex, '%Y-%m-%dT%H:%M:%S.%fZ')\n",
    "    return timex.date()"
   ]
  },
  {
   "cell_type": "code",
   "execution_count": null,
   "metadata": {},
   "outputs": [],
   "source": [
    "isimler=[] # turkish names\n",
    "with open(\"isimler\",encoding=\"utf-8\") as f:\n",
    "    for line in f:\n",
    "        line=line.lower()\n",
    "        isimler.append(line[:-1])\n",
    "# print(isimler)"
   ]
  },
  {
   "cell_type": "code",
   "execution_count": null,
   "metadata": {},
   "outputs": [],
   "source": [
    "\n",
    "def isimsil(text):\n",
    "    temiz=[]\n",
    "    text=text.split()\n",
    "    for w in text:\n",
    "        if w not in isimler:\n",
    "            temiz.append(w)\n",
    "    return \" \".join(temiz)\n"
   ]
  },
  {
   "cell_type": "code",
   "execution_count": null,
   "metadata": {},
   "outputs": [],
   "source": [
    "\n",
    "def replacing(text):\n",
    "\n",
    "    if \"blok\" and \"saat\" not in text.split():\n",
    "        return text\n",
    "    else:\n",
    "        return \"nan\"\n",
    "\n",
    "    # if \"sözkonusu\" and \"ulaşabilirsiniz\" in text.split():\n",
    "    #     text=text.replace(\"sözkonusu\",\"[sözkonusu\")\n",
    "    #     text = text.replace(\"ulaşabilirsiniz\", \"ulaşabilirsiniz]\")\n",
    "\n",
    "    # return text"
   ]
  },
  {
   "cell_type": "code",
   "execution_count": null,
   "metadata": {},
   "outputs": [],
   "source": [
    "def clean_text(text, remove_stopwords=True):\n",
    "    # text=text.lower()\n",
    "    text=re.sub(r'\\[[^\\)]*\\)', ' ', text)\n",
    "    text=re.sub(r'\\[[^\\]]*\\]', ' ', text)\n",
    "    text=re.sub(r'\\|[^\\|]*\\|', ' ', text)\n",
    "    text=re.sub(r'\\#|[^\\#]*\\#', ' ', text)\n",
    "    text = re.sub(\"[%s]\" % re.escape(string.punctuation), \"\", text)  ## noktalama işaretlerini aldk\n",
    "    text = re.sub(\"\\w*\\d\\w*\", \"\", text)\n",
    "\n",
    "    if remove_stopwords:\n",
    "        text=text.split()\n",
    "        stops=set(stopwords.words(\"turkish\"))\n",
    "        text=[w for w in text if not w in stops and w!=\"\" and w!=\"\"and w!=\"\"]\n",
    "        text=\" \".join(text)\n",
    "\n",
    "\n",
    "    return text"
   ]
  },
  {
   "cell_type": "code",
   "execution_count": null,
   "metadata": {},
   "outputs": [],
   "source": [
    "def delete_short(text):\n",
    "    text=text.split()\n",
    "    if len(text)>5:\n",
    "        return \" \".join(text)\n",
    "    else:\n",
    "        return \"\""
   ]
  },
  {
   "cell_type": "code",
   "execution_count": null,
   "metadata": {},
   "outputs": [],
   "source": [
    "df.content=df.content.astype(\"U\")\n",
    "df.date = df.date.apply(just_date)\n",
    "df.content = df.content.apply(replacing)\n",
    "df.content = df.content.apply(clean_text)\n",
    "df.content = df.content.apply(delete_short)\n",
    "df.content = df.content.apply(isimsil)"
   ]
  },
  {
   "cell_type": "code",
   "execution_count": null,
   "metadata": {},
   "outputs": [],
   "source": [
    "df = df[[\"date\", \"content\"]]\n",
    "df.content.dropna(inplace=True,axis=0)\n"
   ]
  },
  {
   "cell_type": "code",
   "execution_count": null,
   "metadata": {},
   "outputs": [],
   "source": [
    "\n",
    "df=df[df.content!=\"\"]\n",
    "df=df[df.content!=\"nan\"]\n",
    "\n",
    "print(df.head())\n",
    "\n",
    "# df.to_csv(\"PEG_NEWS.CSV\")\n",
    "# df.to_csv(\"THY_NEWS.CSV\")"
   ]
  },
  {
   "cell_type": "code",
   "execution_count": null,
   "metadata": {},
   "outputs": [],
   "source": []
  }
 ],
 "metadata": {
  "kernelspec": {
   "display_name": "Python 3",
   "language": "python",
   "name": "python3"
  },
  "language_info": {
   "codemirror_mode": {
    "name": "ipython",
    "version": 3
   },
   "file_extension": ".py",
   "mimetype": "text/x-python",
   "name": "python",
   "nbconvert_exporter": "python",
   "pygments_lexer": "ipython3",
   "version": "3.7.3"
  }
 },
 "nbformat": 4,
 "nbformat_minor": 2
}
